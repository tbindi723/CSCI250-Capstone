{
 "cells": [
  {
   "cell_type": "code",
   "execution_count": null,
   "id": "0ab4dba4",
   "metadata": {},
   "outputs": [],
   "source": [
    "def hardLevel(ledPinYellow, ledpinGreen, ledPinBlue, ledPinRed):\n",
    "\n",
    "def easyLevel(ledPinYellow, ledpinGreen, ledPinBlue, ledPinRed):"
   ]
  },
  {
   "cell_type": "code",
   "execution_count": null,
   "id": "53fa9d06",
   "metadata": {},
   "outputs": [],
   "source": [
    "import numpy as np\n",
    "import RPi.GPIO as GPIO\n",
    "import adcUtil as adc\n",
    "import time\n",
    "import pigpio\n",
    "# create reference to pigpio daemon\n",
    "pi = pigpio.pi(port = 8887)"
   ]
  },
  {
   "cell_type": "code",
   "execution_count": null,
   "id": "a28f2c7e",
   "metadata": {},
   "outputs": [],
   "source": [
    "# setup GPIO as input for the gate pin\n",
    "GPIO.setmode(GPIO.BCM)\n",
    "switchPin = 26\n",
    "buzPin1 = 12\n",
    "\n",
    "buttonYellow = 13\n",
    "buttonGreen = 18\n",
    "buttonBlue = 16\n",
    "buttonRed = 19\n",
    "\n",
    "GPIO.setup(gatePin, GPIO.IN)\n",
    "\n",
    "# assign a variable for the pin number\n",
    "ledPinYellow = 12\n",
    "ledPinGreen = 21\n",
    "ledPinBlue = 13\n",
    "ledPinRed = 20\n",
    "\n",
    "# set the GPIO pin to output mode\n",
    "GPIO.setup(ledPinYellow, GPIO.OUT)\n",
    "GPIO.setup(ledPinGreen, GPIO.OUT)\n",
    "GPIO.setup(ledPinBlue, GPIO.OUT)\n",
    "GPIO.setup(ledPinRed, GPIO.OUT)\n",
    "\n",
    "Vin =  3.3 # Volt\n",
    "R2  = 10.0 # kOhm\n",
    "R1 = 0\n",
    "\n",
    "Vou = adc.readADC(channel=1,device=0) # flex sensor voltage\n",
    "if(Vou != 0):\n",
    "    R1 = R2 * (Vin/Vou - 1)                # flex sensor resistance\n",
    "    Rflex = 10 + R1; \n",
    "    \n",
    "while True:\n",
    "    #Get flex sensors resistor \n",
    "    Vou = adc.readADC(channel=1,device=1) # flex sensor voltage\n",
    "    if(Vou != 0):\n",
    "        R1 = R2 * (Vin/Vou - 1)                # flex sensor resistance \n",
    "    #if it is bent\n",
    "    if R1 > Rflex:\n",
    "        while R1 > Rflex-10:\n",
    "            GPIO.setup(switchPin, GPIO.IN, pull_up_down = GPIO.PUD_UP)\n",
    "            if (GPIO.input(switchPin) != 0):\n",
    "                "
   ]
  }
 ],
 "metadata": {
  "kernelspec": {
   "display_name": "Python 3 (ipykernel)",
   "language": "python",
   "name": "python3"
  },
  "language_info": {
   "codemirror_mode": {
    "name": "ipython",
    "version": 3
   },
   "file_extension": ".py",
   "mimetype": "text/x-python",
   "name": "python",
   "nbconvert_exporter": "python",
   "pygments_lexer": "ipython3",
   "version": "3.9.13"
  }
 },
 "nbformat": 4,
 "nbformat_minor": 5
}
